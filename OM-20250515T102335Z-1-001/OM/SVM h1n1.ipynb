{
 "cells": [
  {
   "cell_type": "code",
   "execution_count": 12,
   "id": "51b9e9bd",
   "metadata": {},
   "outputs": [],
   "source": [
    "import pandas as pd\n",
    "import numpy as np\n",
    "from sklearn.model_selection import train_test_split\n",
    "from sklearn.preprocessing import LabelEncoder, StandardScaler\n",
    "from sklearn.svm import SVC\n",
    "from sklearn.metrics import accuracy_score\n"
   ]
  },
  {
   "cell_type": "code",
   "execution_count": 51,
   "id": "a761bf68",
   "metadata": {},
   "outputs": [],
   "source": [
    "from sklearn.metrics import confusion_matrix, classification_report"
   ]
  },
  {
   "cell_type": "code",
   "execution_count": 3,
   "id": "33395a2a",
   "metadata": {},
   "outputs": [],
   "source": [
    "import matplotlib.pyplot as plt\n",
    "import seaborn as sns"
   ]
  },
  {
   "cell_type": "code",
   "execution_count": 4,
   "id": "7454c8aa",
   "metadata": {},
   "outputs": [],
   "source": [
    "%matplotlib inline"
   ]
  },
  {
   "cell_type": "code",
   "execution_count": 5,
   "id": "1e88c84b",
   "metadata": {},
   "outputs": [],
   "source": [
    "from sklearn.datasets import load_breast_cancer"
   ]
  },
  {
   "cell_type": "code",
   "execution_count": 13,
   "id": "06d8ff05",
   "metadata": {},
   "outputs": [],
   "source": [
    "df = pd.read_csv(\"H1N1_Flu_Vaccines_Cleaned.csv\")"
   ]
  },
  {
   "cell_type": "code",
   "execution_count": 60,
   "id": "bbd88495",
   "metadata": {},
   "outputs": [
    {
     "data": {
      "text/html": [
       "<div>\n",
       "<style scoped>\n",
       "    .dataframe tbody tr th:only-of-type {\n",
       "        vertical-align: middle;\n",
       "    }\n",
       "\n",
       "    .dataframe tbody tr th {\n",
       "        vertical-align: top;\n",
       "    }\n",
       "\n",
       "    .dataframe thead th {\n",
       "        text-align: right;\n",
       "    }\n",
       "</style>\n",
       "<table border=\"1\" class=\"dataframe\">\n",
       "  <thead>\n",
       "    <tr style=\"text-align: right;\">\n",
       "      <th></th>\n",
       "      <th>h1n1_concern</th>\n",
       "      <th>h1n1_knowledge</th>\n",
       "      <th>behavioral_antiviral_meds</th>\n",
       "      <th>behavioral_avoidance</th>\n",
       "      <th>behavioral_face_mask</th>\n",
       "      <th>behavioral_wash_hands</th>\n",
       "      <th>behavioral_large_gatherings</th>\n",
       "      <th>behavioral_outside_home</th>\n",
       "      <th>behavioral_touch_face</th>\n",
       "      <th>doctor_recc_h1n1</th>\n",
       "      <th>...</th>\n",
       "      <th>sex</th>\n",
       "      <th>income_poverty</th>\n",
       "      <th>marital_status</th>\n",
       "      <th>rent_or_own</th>\n",
       "      <th>employment_status</th>\n",
       "      <th>census_msa</th>\n",
       "      <th>household_adults</th>\n",
       "      <th>household_children</th>\n",
       "      <th>h1n1_vaccine</th>\n",
       "      <th>seasonal_vaccine</th>\n",
       "    </tr>\n",
       "  </thead>\n",
       "  <tbody>\n",
       "    <tr>\n",
       "      <th>0</th>\n",
       "      <td>1.0</td>\n",
       "      <td>0.0</td>\n",
       "      <td>0.0</td>\n",
       "      <td>0.0</td>\n",
       "      <td>0.0</td>\n",
       "      <td>0.0</td>\n",
       "      <td>0.0</td>\n",
       "      <td>1.0</td>\n",
       "      <td>1.0</td>\n",
       "      <td>0.0</td>\n",
       "      <td>...</td>\n",
       "      <td>0</td>\n",
       "      <td>2</td>\n",
       "      <td>1</td>\n",
       "      <td>0</td>\n",
       "      <td>1</td>\n",
       "      <td>2</td>\n",
       "      <td>0.0</td>\n",
       "      <td>0.0</td>\n",
       "      <td>0</td>\n",
       "      <td>0</td>\n",
       "    </tr>\n",
       "    <tr>\n",
       "      <th>1</th>\n",
       "      <td>3.0</td>\n",
       "      <td>2.0</td>\n",
       "      <td>0.0</td>\n",
       "      <td>1.0</td>\n",
       "      <td>0.0</td>\n",
       "      <td>1.0</td>\n",
       "      <td>0.0</td>\n",
       "      <td>1.0</td>\n",
       "      <td>1.0</td>\n",
       "      <td>0.0</td>\n",
       "      <td>...</td>\n",
       "      <td>1</td>\n",
       "      <td>2</td>\n",
       "      <td>1</td>\n",
       "      <td>1</td>\n",
       "      <td>0</td>\n",
       "      <td>0</td>\n",
       "      <td>0.0</td>\n",
       "      <td>0.0</td>\n",
       "      <td>0</td>\n",
       "      <td>1</td>\n",
       "    </tr>\n",
       "    <tr>\n",
       "      <th>2</th>\n",
       "      <td>1.0</td>\n",
       "      <td>1.0</td>\n",
       "      <td>0.0</td>\n",
       "      <td>1.0</td>\n",
       "      <td>0.0</td>\n",
       "      <td>0.0</td>\n",
       "      <td>0.0</td>\n",
       "      <td>0.0</td>\n",
       "      <td>0.0</td>\n",
       "      <td>0.0</td>\n",
       "      <td>...</td>\n",
       "      <td>1</td>\n",
       "      <td>0</td>\n",
       "      <td>1</td>\n",
       "      <td>0</td>\n",
       "      <td>0</td>\n",
       "      <td>0</td>\n",
       "      <td>2.0</td>\n",
       "      <td>0.0</td>\n",
       "      <td>0</td>\n",
       "      <td>0</td>\n",
       "    </tr>\n",
       "    <tr>\n",
       "      <th>3</th>\n",
       "      <td>1.0</td>\n",
       "      <td>1.0</td>\n",
       "      <td>0.0</td>\n",
       "      <td>1.0</td>\n",
       "      <td>0.0</td>\n",
       "      <td>1.0</td>\n",
       "      <td>1.0</td>\n",
       "      <td>0.0</td>\n",
       "      <td>0.0</td>\n",
       "      <td>0.0</td>\n",
       "      <td>...</td>\n",
       "      <td>0</td>\n",
       "      <td>2</td>\n",
       "      <td>1</td>\n",
       "      <td>1</td>\n",
       "      <td>1</td>\n",
       "      <td>1</td>\n",
       "      <td>0.0</td>\n",
       "      <td>0.0</td>\n",
       "      <td>0</td>\n",
       "      <td>1</td>\n",
       "    </tr>\n",
       "    <tr>\n",
       "      <th>4</th>\n",
       "      <td>2.0</td>\n",
       "      <td>1.0</td>\n",
       "      <td>0.0</td>\n",
       "      <td>1.0</td>\n",
       "      <td>0.0</td>\n",
       "      <td>1.0</td>\n",
       "      <td>1.0</td>\n",
       "      <td>0.0</td>\n",
       "      <td>1.0</td>\n",
       "      <td>0.0</td>\n",
       "      <td>...</td>\n",
       "      <td>0</td>\n",
       "      <td>0</td>\n",
       "      <td>0</td>\n",
       "      <td>0</td>\n",
       "      <td>0</td>\n",
       "      <td>0</td>\n",
       "      <td>1.0</td>\n",
       "      <td>0.0</td>\n",
       "      <td>0</td>\n",
       "      <td>0</td>\n",
       "    </tr>\n",
       "  </tbody>\n",
       "</table>\n",
       "<p>5 rows × 34 columns</p>\n",
       "</div>"
      ],
      "text/plain": [
       "   h1n1_concern  h1n1_knowledge  behavioral_antiviral_meds  \\\n",
       "0           1.0             0.0                        0.0   \n",
       "1           3.0             2.0                        0.0   \n",
       "2           1.0             1.0                        0.0   \n",
       "3           1.0             1.0                        0.0   \n",
       "4           2.0             1.0                        0.0   \n",
       "\n",
       "   behavioral_avoidance  behavioral_face_mask  behavioral_wash_hands  \\\n",
       "0                   0.0                   0.0                    0.0   \n",
       "1                   1.0                   0.0                    1.0   \n",
       "2                   1.0                   0.0                    0.0   \n",
       "3                   1.0                   0.0                    1.0   \n",
       "4                   1.0                   0.0                    1.0   \n",
       "\n",
       "   behavioral_large_gatherings  behavioral_outside_home  \\\n",
       "0                          0.0                      1.0   \n",
       "1                          0.0                      1.0   \n",
       "2                          0.0                      0.0   \n",
       "3                          1.0                      0.0   \n",
       "4                          1.0                      0.0   \n",
       "\n",
       "   behavioral_touch_face  doctor_recc_h1n1  ...  sex  income_poverty  \\\n",
       "0                    1.0               0.0  ...    0               2   \n",
       "1                    1.0               0.0  ...    1               2   \n",
       "2                    0.0               0.0  ...    1               0   \n",
       "3                    0.0               0.0  ...    0               2   \n",
       "4                    1.0               0.0  ...    0               0   \n",
       "\n",
       "   marital_status  rent_or_own  employment_status  census_msa  \\\n",
       "0               1            0                  1           2   \n",
       "1               1            1                  0           0   \n",
       "2               1            0                  0           0   \n",
       "3               1            1                  1           1   \n",
       "4               0            0                  0           0   \n",
       "\n",
       "   household_adults  household_children  h1n1_vaccine  seasonal_vaccine  \n",
       "0               0.0                 0.0             0                 0  \n",
       "1               0.0                 0.0             0                 1  \n",
       "2               2.0                 0.0             0                 0  \n",
       "3               0.0                 0.0             0                 1  \n",
       "4               1.0                 0.0             0                 0  \n",
       "\n",
       "[5 rows x 34 columns]"
      ]
     },
     "execution_count": 60,
     "metadata": {},
     "output_type": "execute_result"
    }
   ],
   "source": [
    "df.head()"
   ]
  },
  {
   "cell_type": "code",
   "execution_count": 62,
   "id": "5a136b3b",
   "metadata": {},
   "outputs": [
    {
     "name": "stdout",
     "output_type": "stream",
     "text": [
      "<class 'pandas.core.frame.DataFrame'>\n",
      "RangeIndex: 26707 entries, 0 to 26706\n",
      "Data columns (total 34 columns):\n",
      " #   Column                       Non-Null Count  Dtype  \n",
      "---  ------                       --------------  -----  \n",
      " 0   h1n1_concern                 26707 non-null  float64\n",
      " 1   h1n1_knowledge               26707 non-null  float64\n",
      " 2   behavioral_antiviral_meds    26707 non-null  float64\n",
      " 3   behavioral_avoidance         26707 non-null  float64\n",
      " 4   behavioral_face_mask         26707 non-null  float64\n",
      " 5   behavioral_wash_hands        26707 non-null  float64\n",
      " 6   behavioral_large_gatherings  26707 non-null  float64\n",
      " 7   behavioral_outside_home      26707 non-null  float64\n",
      " 8   behavioral_touch_face        26707 non-null  float64\n",
      " 9   doctor_recc_h1n1             26707 non-null  float64\n",
      " 10  doctor_recc_seasonal         26707 non-null  float64\n",
      " 11  chronic_med_condition        26707 non-null  float64\n",
      " 12  child_under_6_months         26707 non-null  float64\n",
      " 13  health_worker                26707 non-null  float64\n",
      " 14  health_insurance             26707 non-null  float64\n",
      " 15  opinion_h1n1_vacc_effective  26707 non-null  float64\n",
      " 16  opinion_h1n1_risk            26707 non-null  float64\n",
      " 17  opinion_h1n1_sick_from_vacc  26707 non-null  float64\n",
      " 18  opinion_seas_vacc_effective  26707 non-null  float64\n",
      " 19  opinion_seas_risk            26707 non-null  float64\n",
      " 20  opinion_seas_sick_from_vacc  26707 non-null  float64\n",
      " 21  age_group                    26707 non-null  int64  \n",
      " 22  education                    26707 non-null  int64  \n",
      " 23  race                         26707 non-null  int64  \n",
      " 24  sex                          26707 non-null  int64  \n",
      " 25  income_poverty               26707 non-null  int64  \n",
      " 26  marital_status               26707 non-null  int64  \n",
      " 27  rent_or_own                  26707 non-null  int64  \n",
      " 28  employment_status            26707 non-null  int64  \n",
      " 29  census_msa                   26707 non-null  int64  \n",
      " 30  household_adults             26707 non-null  float64\n",
      " 31  household_children           26707 non-null  float64\n",
      " 32  h1n1_vaccine                 26707 non-null  int64  \n",
      " 33  seasonal_vaccine             26707 non-null  int64  \n",
      "dtypes: float64(23), int64(11)\n",
      "memory usage: 6.9 MB\n"
     ]
    }
   ],
   "source": [
    "# after transform all the objects are converted to integers:\n",
    "\n",
    "#  21  age_group                    26707 non-null  int64  \n",
    "#  22  education                    26707 non-null  int64  \n",
    "#  23  race                         26707 non-null  int64  \n",
    "#  24  sex                          26707 non-null  int64  \n",
    "#  25  income_poverty               26707 non-null  int64  \n",
    "#  26  marital_status               26707 non-null  int64  \n",
    "#  27  rent_or_own                  26707 non-null  int64  \n",
    "#  28  employment_status            26707 non-null  int64  \n",
    "#  29  census_msa                   26707 non-null  int64  \n",
    "#  30  household_adults             26707 non-null  float64\n",
    "#  31  household_children           26707 non-null  float64\n",
    "#  32  h1n1_vaccine                 26707 non-null  int64  \n",
    "#  33  seasonal_vaccine             26707 non-null  int64 \n",
    "df.info()"
   ]
  },
  {
   "cell_type": "code",
   "execution_count": 65,
   "id": "a8d34684",
   "metadata": {},
   "outputs": [
    {
     "data": {
      "text/plain": [
       "array([3, 1, 0, 4, 2], dtype=int64)"
      ]
     },
     "execution_count": 65,
     "metadata": {},
     "output_type": "execute_result"
    }
   ],
   "source": [
    "df[\"age_group\"].unique()"
   ]
  },
  {
   "cell_type": "code",
   "execution_count": 16,
   "id": "2164c2fa",
   "metadata": {
    "collapsed": true
   },
   "outputs": [
    {
     "ename": "KeyError",
     "evalue": "\"['respondent_id'] not found in axis\"",
     "output_type": "error",
     "traceback": [
      "\u001b[1;31m---------------------------------------------------------------------------\u001b[0m",
      "\u001b[1;31mKeyError\u001b[0m                                  Traceback (most recent call last)",
      "Cell \u001b[1;32mIn[16], line 2\u001b[0m\n\u001b[0;32m      1\u001b[0m \u001b[38;5;66;03m# Drop respondent_id as it's not a predictive feature\u001b[39;00m\n\u001b[1;32m----> 2\u001b[0m df\u001b[38;5;241m.\u001b[39mdrop(columns\u001b[38;5;241m=\u001b[39m[\u001b[38;5;124m\"\u001b[39m\u001b[38;5;124mrespondent_id\u001b[39m\u001b[38;5;124m\"\u001b[39m], inplace\u001b[38;5;241m=\u001b[39m\u001b[38;5;28;01mTrue\u001b[39;00m)\n\u001b[0;32m      4\u001b[0m \u001b[38;5;66;03m# Identify categorical columns\u001b[39;00m\n\u001b[0;32m      5\u001b[0m categorical_cols \u001b[38;5;241m=\u001b[39m df\u001b[38;5;241m.\u001b[39mselect_dtypes(include\u001b[38;5;241m=\u001b[39m[\u001b[38;5;124m\"\u001b[39m\u001b[38;5;124mobject\u001b[39m\u001b[38;5;124m\"\u001b[39m])\u001b[38;5;241m.\u001b[39mcolumns\n",
      "File \u001b[1;32mC:\\anaconda\\Lib\\site-packages\\pandas\\core\\frame.py:5258\u001b[0m, in \u001b[0;36mDataFrame.drop\u001b[1;34m(self, labels, axis, index, columns, level, inplace, errors)\u001b[0m\n\u001b[0;32m   5110\u001b[0m \u001b[38;5;28;01mdef\u001b[39;00m \u001b[38;5;21mdrop\u001b[39m(\n\u001b[0;32m   5111\u001b[0m     \u001b[38;5;28mself\u001b[39m,\n\u001b[0;32m   5112\u001b[0m     labels: IndexLabel \u001b[38;5;241m=\u001b[39m \u001b[38;5;28;01mNone\u001b[39;00m,\n\u001b[1;32m   (...)\u001b[0m\n\u001b[0;32m   5119\u001b[0m     errors: IgnoreRaise \u001b[38;5;241m=\u001b[39m \u001b[38;5;124m\"\u001b[39m\u001b[38;5;124mraise\u001b[39m\u001b[38;5;124m\"\u001b[39m,\n\u001b[0;32m   5120\u001b[0m ) \u001b[38;5;241m-\u001b[39m\u001b[38;5;241m>\u001b[39m DataFrame \u001b[38;5;241m|\u001b[39m \u001b[38;5;28;01mNone\u001b[39;00m:\n\u001b[0;32m   5121\u001b[0m \u001b[38;5;250m    \u001b[39m\u001b[38;5;124;03m\"\"\"\u001b[39;00m\n\u001b[0;32m   5122\u001b[0m \u001b[38;5;124;03m    Drop specified labels from rows or columns.\u001b[39;00m\n\u001b[0;32m   5123\u001b[0m \n\u001b[1;32m   (...)\u001b[0m\n\u001b[0;32m   5256\u001b[0m \u001b[38;5;124;03m            weight  1.0     0.8\u001b[39;00m\n\u001b[0;32m   5257\u001b[0m \u001b[38;5;124;03m    \"\"\"\u001b[39;00m\n\u001b[1;32m-> 5258\u001b[0m     \u001b[38;5;28;01mreturn\u001b[39;00m \u001b[38;5;28msuper\u001b[39m()\u001b[38;5;241m.\u001b[39mdrop(\n\u001b[0;32m   5259\u001b[0m         labels\u001b[38;5;241m=\u001b[39mlabels,\n\u001b[0;32m   5260\u001b[0m         axis\u001b[38;5;241m=\u001b[39maxis,\n\u001b[0;32m   5261\u001b[0m         index\u001b[38;5;241m=\u001b[39mindex,\n\u001b[0;32m   5262\u001b[0m         columns\u001b[38;5;241m=\u001b[39mcolumns,\n\u001b[0;32m   5263\u001b[0m         level\u001b[38;5;241m=\u001b[39mlevel,\n\u001b[0;32m   5264\u001b[0m         inplace\u001b[38;5;241m=\u001b[39minplace,\n\u001b[0;32m   5265\u001b[0m         errors\u001b[38;5;241m=\u001b[39merrors,\n\u001b[0;32m   5266\u001b[0m     )\n",
      "File \u001b[1;32mC:\\anaconda\\Lib\\site-packages\\pandas\\core\\generic.py:4549\u001b[0m, in \u001b[0;36mNDFrame.drop\u001b[1;34m(self, labels, axis, index, columns, level, inplace, errors)\u001b[0m\n\u001b[0;32m   4547\u001b[0m \u001b[38;5;28;01mfor\u001b[39;00m axis, labels \u001b[38;5;129;01min\u001b[39;00m axes\u001b[38;5;241m.\u001b[39mitems():\n\u001b[0;32m   4548\u001b[0m     \u001b[38;5;28;01mif\u001b[39;00m labels \u001b[38;5;129;01mis\u001b[39;00m \u001b[38;5;129;01mnot\u001b[39;00m \u001b[38;5;28;01mNone\u001b[39;00m:\n\u001b[1;32m-> 4549\u001b[0m         obj \u001b[38;5;241m=\u001b[39m obj\u001b[38;5;241m.\u001b[39m_drop_axis(labels, axis, level\u001b[38;5;241m=\u001b[39mlevel, errors\u001b[38;5;241m=\u001b[39merrors)\n\u001b[0;32m   4551\u001b[0m \u001b[38;5;28;01mif\u001b[39;00m inplace:\n\u001b[0;32m   4552\u001b[0m     \u001b[38;5;28mself\u001b[39m\u001b[38;5;241m.\u001b[39m_update_inplace(obj)\n",
      "File \u001b[1;32mC:\\anaconda\\Lib\\site-packages\\pandas\\core\\generic.py:4591\u001b[0m, in \u001b[0;36mNDFrame._drop_axis\u001b[1;34m(self, labels, axis, level, errors, only_slice)\u001b[0m\n\u001b[0;32m   4589\u001b[0m         new_axis \u001b[38;5;241m=\u001b[39m axis\u001b[38;5;241m.\u001b[39mdrop(labels, level\u001b[38;5;241m=\u001b[39mlevel, errors\u001b[38;5;241m=\u001b[39merrors)\n\u001b[0;32m   4590\u001b[0m     \u001b[38;5;28;01melse\u001b[39;00m:\n\u001b[1;32m-> 4591\u001b[0m         new_axis \u001b[38;5;241m=\u001b[39m axis\u001b[38;5;241m.\u001b[39mdrop(labels, errors\u001b[38;5;241m=\u001b[39merrors)\n\u001b[0;32m   4592\u001b[0m     indexer \u001b[38;5;241m=\u001b[39m axis\u001b[38;5;241m.\u001b[39mget_indexer(new_axis)\n\u001b[0;32m   4594\u001b[0m \u001b[38;5;66;03m# Case for non-unique axis\u001b[39;00m\n\u001b[0;32m   4595\u001b[0m \u001b[38;5;28;01melse\u001b[39;00m:\n",
      "File \u001b[1;32mC:\\anaconda\\Lib\\site-packages\\pandas\\core\\indexes\\base.py:6699\u001b[0m, in \u001b[0;36mIndex.drop\u001b[1;34m(self, labels, errors)\u001b[0m\n\u001b[0;32m   6697\u001b[0m \u001b[38;5;28;01mif\u001b[39;00m mask\u001b[38;5;241m.\u001b[39many():\n\u001b[0;32m   6698\u001b[0m     \u001b[38;5;28;01mif\u001b[39;00m errors \u001b[38;5;241m!=\u001b[39m \u001b[38;5;124m\"\u001b[39m\u001b[38;5;124mignore\u001b[39m\u001b[38;5;124m\"\u001b[39m:\n\u001b[1;32m-> 6699\u001b[0m         \u001b[38;5;28;01mraise\u001b[39;00m \u001b[38;5;167;01mKeyError\u001b[39;00m(\u001b[38;5;124mf\u001b[39m\u001b[38;5;124m\"\u001b[39m\u001b[38;5;132;01m{\u001b[39;00m\u001b[38;5;28mlist\u001b[39m(labels[mask])\u001b[38;5;132;01m}\u001b[39;00m\u001b[38;5;124m not found in axis\u001b[39m\u001b[38;5;124m\"\u001b[39m)\n\u001b[0;32m   6700\u001b[0m     indexer \u001b[38;5;241m=\u001b[39m indexer[\u001b[38;5;241m~\u001b[39mmask]\n\u001b[0;32m   6701\u001b[0m \u001b[38;5;28;01mreturn\u001b[39;00m \u001b[38;5;28mself\u001b[39m\u001b[38;5;241m.\u001b[39mdelete(indexer)\n",
      "\u001b[1;31mKeyError\u001b[0m: \"['respondent_id'] not found in axis\""
     ]
    }
   ],
   "source": [
    "# Drop respondent_id as it's not a predictive feature\n",
    "df.drop(columns=[\"respondent_id\"], inplace=True)\n",
    "\n",
    "# Identify categorical columns\n",
    "categorical_cols = df.select_dtypes(include=[\"object\"]).columns"
   ]
  },
  {
   "cell_type": "code",
   "execution_count": 17,
   "id": "8ff65243",
   "metadata": {},
   "outputs": [],
   "source": [
    "# Encode categorical features\n",
    "label_encoders = {}\n",
    "for col in categorical_cols:\n",
    "    le = LabelEncoder()\n",
    "    df[col] = le.fit_transform(df[col])\n",
    "    label_encoders[col] = le"
   ]
  },
  {
   "cell_type": "code",
   "execution_count": 18,
   "id": "da045075",
   "metadata": {},
   "outputs": [],
   "source": [
    "# Split features and targets\n",
    "X = df.drop(columns=[\"h1n1_vaccine\", \"seasonal_vaccine\"])\n",
    "y_h1n1 = df[\"h1n1_vaccine\"]\n",
    "y_seasonal = df[\"seasonal_vaccine\"]"
   ]
  },
  {
   "cell_type": "code",
   "execution_count": 19,
   "id": "191afcc9",
   "metadata": {},
   "outputs": [],
   "source": [
    "# Standardize features\n",
    "scaler = StandardScaler()\n",
    "X_scaled = scaler.fit_transform(X)"
   ]
  },
  {
   "cell_type": "code",
   "execution_count": 30,
   "id": "3b62b040",
   "metadata": {},
   "outputs": [],
   "source": [
    "# Train-test split for both targets\n",
    "X_train, X_test, y_train_h1n1, y_test_h1n1 = train_test_split(X_scaled, y_h1n1, test_size=0.2, random_state=42)\n",
    "X_train, X_test, y_train_seasonal, y_test_seasonal = train_test_split(X_scaled, y_seasonal, test_size=0.2, random_state=42)"
   ]
  },
  {
   "cell_type": "code",
   "execution_count": 32,
   "id": "09998f13",
   "metadata": {},
   "outputs": [
    {
     "data": {
      "text/plain": [
       "(21365, 32)"
      ]
     },
     "execution_count": 32,
     "metadata": {},
     "output_type": "execute_result"
    }
   ],
   "source": [
    "X_train.shape"
   ]
  },
  {
   "cell_type": "code",
   "execution_count": 38,
   "id": "0144468a",
   "metadata": {},
   "outputs": [],
   "source": [
    "# Train SVM models\n",
    "svm_model = SVC(kernel=\"rbf\", random_state=40)\n",
    "h1n1 = svm_model.fit(X_train, y_train_h1n1)\n",
    "\n",
    "seasonal = svm_model.fit(X_train, y_train_seasonal)"
   ]
  },
  {
   "cell_type": "code",
   "execution_count": 43,
   "id": "d2a4011a",
   "metadata": {},
   "outputs": [
    {
     "data": {
      "text/plain": [
       "0.8256962321553943"
      ]
     },
     "execution_count": 43,
     "metadata": {},
     "output_type": "execute_result"
    }
   ],
   "source": [
    "seasonal.score(X_train, y_train_seasonal)"
   ]
  },
  {
   "cell_type": "code",
   "execution_count": 45,
   "id": "50c3f036",
   "metadata": {},
   "outputs": [
    {
     "data": {
      "text/plain": [
       "0.7843504305503557"
      ]
     },
     "execution_count": 45,
     "metadata": {},
     "output_type": "execute_result"
    }
   ],
   "source": [
    "seasonal.score(X_test, y_test_seasonal)"
   ]
  },
  {
   "cell_type": "code",
   "execution_count": 44,
   "id": "29b3ce7e",
   "metadata": {
    "scrolled": true
   },
   "outputs": [
    {
     "data": {
      "text/plain": [
       "0.6521413526796161"
      ]
     },
     "execution_count": 44,
     "metadata": {},
     "output_type": "execute_result"
    }
   ],
   "source": [
    "h1n1.score(X_train, y_train_h1n1)"
   ]
  },
  {
   "cell_type": "code",
   "execution_count": null,
   "id": "ee9af02b",
   "metadata": {},
   "outputs": [],
   "source": []
  },
  {
   "cell_type": "code",
   "execution_count": null,
   "id": "3bff55c9",
   "metadata": {},
   "outputs": [],
   "source": []
  },
  {
   "cell_type": "code",
   "execution_count": 47,
   "id": "fb1b0f6b",
   "metadata": {},
   "outputs": [],
   "source": [
    "# Predictions\n",
    "y_pred_h1n1 = h1n1.predict(X_test)\n",
    "y_pred_seasonal = seasonal.predict(X_test)"
   ]
  },
  {
   "cell_type": "code",
   "execution_count": 48,
   "id": "aa7b180b",
   "metadata": {},
   "outputs": [],
   "source": [
    "# Calculate accuracies\n",
    "accuracy_h1n1 = accuracy_score(y_test_h1n1, y_pred_h1n1)\n",
    "accuracy_seasonal = accuracy_score(y_test_seasonal, y_pred_seasonal)"
   ]
  },
  {
   "cell_type": "code",
   "execution_count": 49,
   "id": "64bde32f",
   "metadata": {},
   "outputs": [
    {
     "data": {
      "text/plain": [
       "(0.6370273305877948, 0.7843504305503557)"
      ]
     },
     "execution_count": 49,
     "metadata": {},
     "output_type": "execute_result"
    }
   ],
   "source": [
    "accuracy_h1n1, accuracy_seasonal"
   ]
  },
  {
   "cell_type": "code",
   "execution_count": 53,
   "id": "81aa842c",
   "metadata": {},
   "outputs": [
    {
     "data": {
      "text/plain": [
       "array([[2623, 1589],\n",
       "       [ 350,  780]], dtype=int64)"
      ]
     },
     "execution_count": 53,
     "metadata": {},
     "output_type": "execute_result"
    }
   ],
   "source": [
    "#confusion matrix\n",
    "conf_h1n1 = confusion_matrix(y_test_h1n1,y_pred_h1n1)\n",
    "conf_h1n1"
   ]
  },
  {
   "cell_type": "code",
   "execution_count": 54,
   "id": "d9f0afae",
   "metadata": {},
   "outputs": [
    {
     "data": {
      "text/plain": [
       "array([[2356,  535],\n",
       "       [ 617, 1834]], dtype=int64)"
      ]
     },
     "execution_count": 54,
     "metadata": {},
     "output_type": "execute_result"
    }
   ],
   "source": [
    "conf_seasonal = confusion_matrix(y_test_seasonal,y_pred_seasonal)\n",
    "conf_seasonal"
   ]
  },
  {
   "cell_type": "code",
   "execution_count": 56,
   "id": "3e60cb40",
   "metadata": {},
   "outputs": [
    {
     "data": {
      "text/plain": [
       "'              precision    recall  f1-score   support\\n\\n           0       0.88      0.62      0.73      4212\\n           1       0.33      0.69      0.45      1130\\n\\n    accuracy                           0.64      5342\\n   macro avg       0.61      0.66      0.59      5342\\nweighted avg       0.77      0.64      0.67      5342\\n'"
      ]
     },
     "execution_count": 56,
     "metadata": {},
     "output_type": "execute_result"
    }
   ],
   "source": [
    "classification_report(y_test_h1n1,y_pred_h1n1)"
   ]
  },
  {
   "cell_type": "code",
   "execution_count": 57,
   "id": "c66a115e",
   "metadata": {},
   "outputs": [
    {
     "data": {
      "text/plain": [
       "'              precision    recall  f1-score   support\\n\\n           0       0.79      0.81      0.80      2891\\n           1       0.77      0.75      0.76      2451\\n\\n    accuracy                           0.78      5342\\n   macro avg       0.78      0.78      0.78      5342\\nweighted avg       0.78      0.78      0.78      5342\\n'"
      ]
     },
     "execution_count": 57,
     "metadata": {},
     "output_type": "execute_result"
    }
   ],
   "source": [
    "classification_report(y_test_seasonal,y_pred_seasonal)"
   ]
  },
  {
   "cell_type": "code",
   "execution_count": 58,
   "id": "8a1d899d",
   "metadata": {},
   "outputs": [],
   "source": [
    "# Generate the classification report\n",
    "report_h1n1 = classification_report(y_test_h1n1, y_pred_h1n1)\n",
    "report_seasonal = classification_report(y_test_seasonal, y_pred_seasonal)"
   ]
  },
  {
   "cell_type": "code",
   "execution_count": 59,
   "id": "fe7fdb37",
   "metadata": {},
   "outputs": [
    {
     "name": "stdout",
     "output_type": "stream",
     "text": [
      "H1N1 Vaccine Prediction Report:\n",
      "\n",
      "              precision    recall  f1-score   support\n",
      "\n",
      "           0       0.88      0.62      0.73      4212\n",
      "           1       0.33      0.69      0.45      1130\n",
      "\n",
      "    accuracy                           0.64      5342\n",
      "   macro avg       0.61      0.66      0.59      5342\n",
      "weighted avg       0.77      0.64      0.67      5342\n",
      "\n",
      "\n",
      "Seasonal Flu Vaccine Prediction Report:\n",
      "\n",
      "              precision    recall  f1-score   support\n",
      "\n",
      "           0       0.79      0.81      0.80      2891\n",
      "           1       0.77      0.75      0.76      2451\n",
      "\n",
      "    accuracy                           0.78      5342\n",
      "   macro avg       0.78      0.78      0.78      5342\n",
      "weighted avg       0.78      0.78      0.78      5342\n",
      "\n"
     ]
    }
   ],
   "source": [
    "# Print reports properly formatted\n",
    "print(\"H1N1 Vaccine Prediction Report:\\n\")\n",
    "print(report_h1n1)\n",
    "print(\"\\nSeasonal Flu Vaccine Prediction Report:\\n\")\n",
    "print(report_seasonal)"
   ]
  },
  {
   "cell_type": "code",
   "execution_count": null,
   "id": "1254a5e7",
   "metadata": {},
   "outputs": [],
   "source": []
  }
 ],
 "metadata": {
  "kernelspec": {
   "display_name": "Python 3 (ipykernel)",
   "language": "python",
   "name": "python3"
  },
  "language_info": {
   "codemirror_mode": {
    "name": "ipython",
    "version": 3
   },
   "file_extension": ".py",
   "mimetype": "text/x-python",
   "name": "python",
   "nbconvert_exporter": "python",
   "pygments_lexer": "ipython3",
   "version": "3.11.5"
  }
 },
 "nbformat": 4,
 "nbformat_minor": 5
}
